{
 "cells": [
  {
   "cell_type": "code",
   "execution_count": 1,
   "id": "f959e69a",
   "metadata": {},
   "outputs": [],
   "source": [
    "\"\"\"Let say you are a teacher and you have different student records containing id of a student and the marks list in each subject where different students have taken different number of subjects. All these records are in hard copy. You want to enter all the data in computer and want to compute the avrage marks of each student and display\"\"\"\n",
    " \n",
    "\n",
    "def getDataFromUser():\n",
    "    D = {}\n",
    "    while True:\n",
    "        student_id = input(\"Enter student ID: \")\n",
    "        marks_list = input(\"Enter the marks by comma seprated values:\")\n",
    "        more_students = input('Enter \"no\" to quit insertion: ')\n",
    "        if student_id in D:\n",
    "            print(student_id, \"is already instered\")\n",
    "        else:\n",
    "            D[student_id] = marks_list.split(\",\")\n",
    "        if more_students.lower() == \"no\":\n",
    "            return D\n",
    "        "
   ]
  },
  {
   "cell_type": "code",
   "execution_count": 2,
   "id": "d87024ce",
   "metadata": {},
   "outputs": [
    {
     "name": "stdout",
     "output_type": "stream",
     "text": [
      "Enter student ID: 12\n",
      "Enter the marks by comma seprated values:34, 13, 45\n",
      "Enter \"no\" to quit insertion: asd\n",
      "Enter student ID: 56\n",
      "Enter the marks by comma seprated values:34, 44, 13, 66, 33\n",
      "Enter \"no\" to quit insertion: no\n"
     ]
    }
   ],
   "source": [
    "student_data = getDataFromUser()\n"
   ]
  },
  {
   "cell_type": "code",
   "execution_count": 3,
   "id": "86d04694",
   "metadata": {},
   "outputs": [
    {
     "data": {
      "text/plain": [
       "{'12': ['34', ' 13', ' 45'], '56': ['34', ' 44', ' 13', ' 66', ' 33']}"
      ]
     },
     "execution_count": 3,
     "metadata": {},
     "output_type": "execute_result"
    }
   ],
   "source": [
    "student_data\n"
   ]
  },
  {
   "cell_type": "code",
   "execution_count": 6,
   "id": "5ade24b0",
   "metadata": {},
   "outputs": [],
   "source": [
    "def getAvrageMarks(D):\n",
    "    avragemarks = {}\n",
    "    for x in D:\n",
    "        L = D[x]\n",
    "        s = 0\n",
    "        for marks in L:\n",
    "            s += int(marks)\n",
    "        avragemarks[x] = s / len(L)\n",
    "    return avragemarks"
   ]
  },
  {
   "cell_type": "code",
   "execution_count": 7,
   "id": "7d15adb1",
   "metadata": {},
   "outputs": [],
   "source": [
    "avgM = getAvrageMarks(student_data)"
   ]
  },
  {
   "cell_type": "code",
   "execution_count": 8,
   "id": "c052cb04",
   "metadata": {},
   "outputs": [
    {
     "name": "stdout",
     "output_type": "stream",
     "text": [
      "student: 12 got avg marks as: 30.666666666666668\n",
      "student: 56 got avg marks as: 38.0\n"
     ]
    }
   ],
   "source": [
    "for x in avgM:\n",
    "    print(\"student:\", x, \"got avg marks as:\", avgM[x])"
   ]
  }
 ],
 "metadata": {
  "kernelspec": {
   "display_name": "Python 3 (ipykernel)",
   "language": "python",
   "name": "python3"
  },
  "language_info": {
   "codemirror_mode": {
    "name": "ipython",
    "version": 3
   },
   "file_extension": ".py",
   "mimetype": "text/x-python",
   "name": "python",
   "nbconvert_exporter": "python",
   "pygments_lexer": "ipython3",
   "version": "3.9.7"
  }
 },
 "nbformat": 4,
 "nbformat_minor": 5
}
