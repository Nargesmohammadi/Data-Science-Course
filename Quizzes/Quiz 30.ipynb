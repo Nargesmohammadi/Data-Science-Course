{
 "cells": [
  {
   "cell_type": "code",
   "execution_count": 5,
   "id": "7196ca94",
   "metadata": {},
   "outputs": [],
   "source": [
    "# create an array myArray1 using numpy.random.rand for 50 values multiplying by 10\n",
    "import numpy as np\n",
    "myArray1 = 10*np.random.rand(50)"
   ]
  },
  {
   "cell_type": "code",
   "execution_count": 6,
   "id": "8f3a8dcc",
   "metadata": {},
   "outputs": [],
   "source": [
    "# remove Decimal point values of myArray1\n",
    "myArray1 = np.floor(myArray1)"
   ]
  },
  {
   "cell_type": "code",
   "execution_count": 8,
   "id": "4e81a984",
   "metadata": {},
   "outputs": [
    {
     "data": {
      "text/plain": [
       "array([6., 9., 7., 6., 6., 6., 9., 7., 6., 6., 7., 9., 7., 7., 8., 9., 7.,\n",
       "       7.])"
      ]
     },
     "execution_count": 8,
     "metadata": {},
     "output_type": "execute_result"
    }
   ],
   "source": [
    "# make another array myArray2 and store only numbers that are greater than 5 from myArray1\n",
    "myArray2 = myArray1[myArray1>5]\n",
    "myArray2"
   ]
  },
  {
   "cell_type": "code",
   "execution_count": 11,
   "id": "c93319e1",
   "metadata": {},
   "outputs": [
    {
     "data": {
      "text/plain": [
       "array([0., 0., 0., 0., 0., 0., 1., 1., 1., 1., 1., 1., 1., 2., 2., 2., 3.,\n",
       "       3., 3., 3., 3., 4., 4., 4., 4., 4., 4., 5., 5., 5., 5., 5., 6., 6.,\n",
       "       6., 6., 6., 6., 7., 7., 7., 7., 7., 7., 7., 8., 9., 9., 9., 9.])"
      ]
     },
     "execution_count": 11,
     "metadata": {},
     "output_type": "execute_result"
    }
   ],
   "source": [
    "# sort myArray2 in ascending order, sort myArray1 in descending order\n",
    "myArray2.sort()\n",
    "myArray2\n",
    "myArray1.sort()\n",
    "myArray1"
   ]
  },
  {
   "cell_type": "code",
   "execution_count": 12,
   "id": "fdcb323c",
   "metadata": {},
   "outputs": [
    {
     "data": {
      "text/plain": [
       "array([9., 9., 9., 9., 8., 7., 7., 7., 7., 7., 7., 7., 6., 6., 6., 6., 6.,\n",
       "       6., 5., 5., 5., 5., 5., 4., 4., 4., 4., 4., 4., 3., 3., 3., 3., 3.,\n",
       "       2., 2., 2., 1., 1., 1., 1., 1., 1., 1., 0., 0., 0., 0., 0., 0.])"
      ]
     },
     "execution_count": 12,
     "metadata": {},
     "output_type": "execute_result"
    }
   ],
   "source": [
    "myArray1 = myArray1[::-1]\n",
    "myArray1"
   ]
  }
 ],
 "metadata": {
  "kernelspec": {
   "display_name": "Python 3 (ipykernel)",
   "language": "python",
   "name": "python3"
  },
  "language_info": {
   "codemirror_mode": {
    "name": "ipython",
    "version": 3
   },
   "file_extension": ".py",
   "mimetype": "text/x-python",
   "name": "python",
   "nbconvert_exporter": "python",
   "pygments_lexer": "ipython3",
   "version": "3.9.7"
  }
 },
 "nbformat": 4,
 "nbformat_minor": 5
}
