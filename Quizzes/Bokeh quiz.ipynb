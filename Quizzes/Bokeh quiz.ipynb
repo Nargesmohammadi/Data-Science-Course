{
 "cells": [
  {
   "cell_type": "code",
   "execution_count": 1,
   "id": "d2727d96",
   "metadata": {},
   "outputs": [],
   "source": [
    "import numpy as np\n",
    "import matplotlib.pyplot as plt\n",
    "from bokeh.plotting import figure,output_file,show\n",
    "from bokeh.io import output_notebook\n",
    "from bokeh.layouts import gridplot"
   ]
  },
  {
   "cell_type": "code",
   "execution_count": 6,
   "id": "9a7a9757",
   "metadata": {},
   "outputs": [],
   "source": [
    "y = np.linspace(5,20,30)\n",
    "x1 = np.sin(y)\n",
    "x2 = np.cos(y)\n",
    "x3 = x2+x1-1\n",
    "x4 = y+2+(x2*x3)\n",
    "\n",
    "p1 = figure(plot_width=300,plot_height=200,title='BokehPractice1',\n",
    "           x_axis_label='x1',y_axis_label='y1')\n",
    "p1.line(x1,y,color='green')\n",
    "\n",
    "p2 = figure(plot_width=300,plot_height=200,title='BokehPractice2',\n",
    "            x_axis_label='x2',y_axis_label='y2')\n",
    "p2.circle(x2,y,color='navy',size = 8)\n",
    "\n",
    "p3 = figure(plot_width=300,plot_height=200,title='BokehPractice3',\n",
    "            x_axis_label='x3',y_axis_label='y3')\n",
    "p3.triangle(x3,y,color='red',size = 8)\n",
    "\n",
    "p4 = figure(plot_width=300,plot_height=200,title='BokehPractice4',\n",
    "            x_axis_label='x4',y_axis_label='y4')\n",
    "p4.square(x4,y,color='black',size = 8)\n",
    "\n",
    "p = gridplot([[p1,p2,p3,p4]])\n",
    "show(p)"
   ]
  }
 ],
 "metadata": {
  "kernelspec": {
   "display_name": "Python 3 (ipykernel)",
   "language": "python",
   "name": "python3"
  },
  "language_info": {
   "codemirror_mode": {
    "name": "ipython",
    "version": 3
   },
   "file_extension": ".py",
   "mimetype": "text/x-python",
   "name": "python",
   "nbconvert_exporter": "python",
   "pygments_lexer": "ipython3",
   "version": "3.9.7"
  }
 },
 "nbformat": 4,
 "nbformat_minor": 5
}
