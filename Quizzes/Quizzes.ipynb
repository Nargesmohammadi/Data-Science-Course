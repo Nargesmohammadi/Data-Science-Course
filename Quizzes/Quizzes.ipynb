{
 "cells": [
  {
   "cell_type": "code",
   "execution_count": 1,
   "id": "a36688bf",
   "metadata": {},
   "outputs": [],
   "source": [
    "# a structured array with 4 fields\n",
    "import numpy as np\n",
    "X = np.array([('ABC1',33,'1990',6000),\n",
    "              ('ABC2',25,'1998',30000),\n",
    "              ('ABC3',25,'1998',79000)],\n",
    "             dtype=[('EmployeeType','U20'),('Age','i8'),\n",
    "                    ('Birthyear','U10'),('Salary','i8')])"
   ]
  },
  {
   "cell_type": "code",
   "execution_count": 2,
   "id": "c8b9cd82",
   "metadata": {},
   "outputs": [
    {
     "data": {
      "text/plain": [
       "array([ 6000, 30000, 79000])"
      ]
     },
     "execution_count": 2,
     "metadata": {},
     "output_type": "execute_result"
    }
   ],
   "source": [
    "X['Age']\n",
    "X['EmployeeType']\n",
    "X['Birthyear']\n",
    "X['Salary']"
   ]
  },
  {
   "cell_type": "code",
   "execution_count": 3,
   "id": "d39599ad",
   "metadata": {},
   "outputs": [],
   "source": [
    "# make a data franme D with two columns \"name\"(String) and \"Vaccinated\"(boolean)each with 5 entiers\n",
    "# Store the names with true vaccinated recoreds in DataFrame M"
   ]
  },
  {
   "cell_type": "code",
   "execution_count": 4,
   "id": "e995eca0",
   "metadata": {},
   "outputs": [],
   "source": [
    "import pandas as pd"
   ]
  },
  {
   "cell_type": "code",
   "execution_count": 5,
   "id": "915bffb1",
   "metadata": {},
   "outputs": [
    {
     "data": {
      "text/html": [
       "<div>\n",
       "<style scoped>\n",
       "    .dataframe tbody tr th:only-of-type {\n",
       "        vertical-align: middle;\n",
       "    }\n",
       "\n",
       "    .dataframe tbody tr th {\n",
       "        vertical-align: top;\n",
       "    }\n",
       "\n",
       "    .dataframe thead th {\n",
       "        text-align: right;\n",
       "    }\n",
       "</style>\n",
       "<table border=\"1\" class=\"dataframe\">\n",
       "  <thead>\n",
       "    <tr style=\"text-align: right;\">\n",
       "      <th></th>\n",
       "      <th>Names</th>\n",
       "      <th>Vaccined</th>\n",
       "    </tr>\n",
       "  </thead>\n",
       "  <tbody>\n",
       "    <tr>\n",
       "      <th>A</th>\n",
       "      <td>Nima</td>\n",
       "      <td>True</td>\n",
       "    </tr>\n",
       "    <tr>\n",
       "      <th>B</th>\n",
       "      <td>John</td>\n",
       "      <td>False</td>\n",
       "    </tr>\n",
       "    <tr>\n",
       "      <th>C</th>\n",
       "      <td>Melo</td>\n",
       "      <td>False</td>\n",
       "    </tr>\n",
       "    <tr>\n",
       "      <th>D</th>\n",
       "      <td>Mitii</td>\n",
       "      <td>True</td>\n",
       "    </tr>\n",
       "    <tr>\n",
       "      <th>E</th>\n",
       "      <td>Beh</td>\n",
       "      <td>False</td>\n",
       "    </tr>\n",
       "  </tbody>\n",
       "</table>\n",
       "</div>"
      ],
      "text/plain": [
       "   Names Vaccined\n",
       "A   Nima     True\n",
       "B   John    False\n",
       "C   Melo    False\n",
       "D  Mitii     True\n",
       "E    Beh    False"
      ]
     },
     "execution_count": 5,
     "metadata": {},
     "output_type": "execute_result"
    }
   ],
   "source": [
    "name = {'A':'Nima', 'B': 'John', 'C':'Melo', 'D':'Mitii', 'E':'Beh'}\n",
    "Vaccinated = {'A':'True', 'B':'False', 'C':'False', 'D':'True', 'E':'False'}\n",
    "\n",
    "country = {'A': 'Pakistan', 'B': 'China', 'C': 'China', 'D': 'Pakistan', 'E': 'Pakistan'}\n",
    "\n",
    "D = pd.DataFrame({'Names':name,'Vaccined':Vaccinated, 'Country':co})\n",
    "D"
   ]
  },
  {
   "cell_type": "code",
   "execution_count": 6,
   "id": "bb0555d0",
   "metadata": {},
   "outputs": [
    {
     "data": {
      "text/html": [
       "<div>\n",
       "<style scoped>\n",
       "    .dataframe tbody tr th:only-of-type {\n",
       "        vertical-align: middle;\n",
       "    }\n",
       "\n",
       "    .dataframe tbody tr th {\n",
       "        vertical-align: top;\n",
       "    }\n",
       "\n",
       "    .dataframe thead th {\n",
       "        text-align: right;\n",
       "    }\n",
       "</style>\n",
       "<table border=\"1\" class=\"dataframe\">\n",
       "  <thead>\n",
       "    <tr style=\"text-align: right;\">\n",
       "      <th></th>\n",
       "      <th>Names</th>\n",
       "      <th>Vaccined</th>\n",
       "    </tr>\n",
       "  </thead>\n",
       "  <tbody>\n",
       "    <tr>\n",
       "      <th>A</th>\n",
       "      <td>Nima</td>\n",
       "      <td>True</td>\n",
       "    </tr>\n",
       "    <tr>\n",
       "      <th>D</th>\n",
       "      <td>Mitii</td>\n",
       "      <td>True</td>\n",
       "    </tr>\n",
       "  </tbody>\n",
       "</table>\n",
       "</div>"
      ],
      "text/plain": [
       "   Names Vaccined\n",
       "A   Nima     True\n",
       "D  Mitii     True"
      ]
     },
     "execution_count": 6,
     "metadata": {},
     "output_type": "execute_result"
    }
   ],
   "source": [
    "M = D[D['Vaccined'] == 'True']\n",
    "M "
   ]
  },
  {
   "cell_type": "code",
   "execution_count": null,
   "id": "a510502a",
   "metadata": {},
   "outputs": [],
   "source": []
  }
 ],
 "metadata": {
  "kernelspec": {
   "display_name": "Python 3 (ipykernel)",
   "language": "python",
   "name": "python3"
  },
  "language_info": {
   "codemirror_mode": {
    "name": "ipython",
    "version": 3
   },
   "file_extension": ".py",
   "mimetype": "text/x-python",
   "name": "python",
   "nbconvert_exporter": "python",
   "pygments_lexer": "ipython3",
   "version": "3.9.7"
  }
 },
 "nbformat": 4,
 "nbformat_minor": 5
}
