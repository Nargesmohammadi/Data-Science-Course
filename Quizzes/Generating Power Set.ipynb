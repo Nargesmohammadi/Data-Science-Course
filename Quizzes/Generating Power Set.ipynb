{
 "cells": [
  {
   "cell_type": "code",
   "execution_count": 2,
   "id": "be76dbf4",
   "metadata": {},
   "outputs": [],
   "source": [
    "import numpy as np\n",
    "# Generating all the power set all the subsets:\n",
    "def f_getPowerSet(S):\n",
    "    pS = set([]) #my powerset, that is empty at firts\n",
    "    #pS.add(frozenset([])) #calling frozenset to ensure that immutability that is there in python for sets\n",
    "    A = np.array(list(S))\n",
    "    n =A.size # total numbers in array\n",
    "    for i in range(2**n):\n",
    "        b = np.binary_repr(i,width=n)# it returns string\n",
    "        idx = np.array(list(b),dtype=int)==1 #convert these strength to boolean array, making the array by dtype\n",
    "        # ==1 makes it boolean, if it is 1 the result will be true\n",
    "        pS.add(frozenset(A[idx])) # all different kinds of sets will be added to pS\n",
    "    return pS"
   ]
  },
  {
   "cell_type": "code",
   "execution_count": 3,
   "id": "8c3998af",
   "metadata": {},
   "outputs": [],
   "source": [
    "S = set(np.arange(3))\n",
    "pS = f_getPowerSet(S)"
   ]
  },
  {
   "cell_type": "code",
   "execution_count": 5,
   "id": "cfdfd2cc",
   "metadata": {},
   "outputs": [
    {
     "name": "stdout",
     "output_type": "stream",
     "text": [
      "frozenset({2})\n",
      "frozenset({1, 2})\n",
      "frozenset({0, 1, 2})\n",
      "frozenset({0, 1})\n",
      "frozenset({0, 2})\n",
      "frozenset({1})\n",
      "frozenset()\n",
      "frozenset({0})\n"
     ]
    }
   ],
   "source": [
    "for i in pS:\n",
    "    print(i)"
   ]
  }
 ],
 "metadata": {
  "kernelspec": {
   "display_name": "Python 3 (ipykernel)",
   "language": "python",
   "name": "python3"
  },
  "language_info": {
   "codemirror_mode": {
    "name": "ipython",
    "version": 3
   },
   "file_extension": ".py",
   "mimetype": "text/x-python",
   "name": "python",
   "nbconvert_exporter": "python",
   "pygments_lexer": "ipython3",
   "version": "3.9.7"
  }
 },
 "nbformat": 4,
 "nbformat_minor": 5
}
