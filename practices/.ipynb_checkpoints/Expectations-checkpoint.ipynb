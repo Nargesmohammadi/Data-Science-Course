{
 "cells": [
  {
   "cell_type": "code",
   "execution_count": 1,
   "id": "231b0377",
   "metadata": {},
   "outputs": [],
   "source": [
    "import numpy as np\n",
    "import matplotlib.pyplot as plt\n",
    "import seaborn as sns\n",
    "sns.set()"
   ]
  },
  {
   "cell_type": "code",
   "execution_count": 2,
   "id": "59dd6cb6",
   "metadata": {},
   "outputs": [],
   "source": [
    "p = 0.73 #probability of success\n",
    "N = 10000"
   ]
  },
  {
   "cell_type": "code",
   "execution_count": 3,
   "id": "bc2c5cc0",
   "metadata": {},
   "outputs": [
    {
     "data": {
      "text/plain": [
       "0.723"
      ]
     },
     "execution_count": 3,
     "metadata": {},
     "output_type": "execute_result"
    }
   ],
   "source": [
    "# bernoulli number\n",
    "(np.random.rand(N)<=p).mean()"
   ]
  },
  {
   "cell_type": "code",
   "execution_count": 4,
   "id": "13cb496b",
   "metadata": {},
   "outputs": [
    {
     "data": {
      "text/plain": [
       "1.339"
      ]
     },
     "execution_count": 4,
     "metadata": {},
     "output_type": "execute_result"
    }
   ],
   "source": [
    "X = np.random.geometric(p,N)\n",
    "X.mean()"
   ]
  },
  {
   "cell_type": "code",
   "execution_count": 5,
   "id": "d15d56d3",
   "metadata": {},
   "outputs": [
    {
     "data": {
      "text/plain": [
       "72.887"
      ]
     },
     "execution_count": 5,
     "metadata": {},
     "output_type": "execute_result"
    }
   ],
   "source": [
    "n = 100 #The number of bernoulli trails\n",
    "B = np.random.binomial(n,p,N)\n",
    "B.mean()"
   ]
  },
  {
   "cell_type": "code",
   "execution_count": 6,
   "id": "7b4d707d",
   "metadata": {},
   "outputs": [
    {
     "data": {
      "text/plain": [
       "69"
      ]
     },
     "execution_count": 6,
     "metadata": {},
     "output_type": "execute_result"
    }
   ],
   "source": [
    "# B[x]: is the expected random value for B and x just can be between 0 and 1000\n",
    "B[0]"
   ]
  },
  {
   "cell_type": "code",
   "execution_count": 7,
   "id": "d00b69b1",
   "metadata": {},
   "outputs": [
    {
     "data": {
      "text/plain": [
       "72"
      ]
     },
     "execution_count": 7,
     "metadata": {},
     "output_type": "execute_result"
    }
   ],
   "source": [
    "B[1]"
   ]
  },
  {
   "cell_type": "code",
   "execution_count": 9,
   "id": "a9ca6596",
   "metadata": {},
   "outputs": [
    {
     "data": {
      "text/plain": [
       "73"
      ]
     },
     "execution_count": 9,
     "metadata": {},
     "output_type": "execute_result"
    }
   ],
   "source": [
    "B[101]"
   ]
  },
  {
   "cell_type": "code",
   "execution_count": 13,
   "id": "611c1f6f",
   "metadata": {},
   "outputs": [
    {
     "data": {
      "text/plain": [
       "75"
      ]
     },
     "execution_count": 13,
     "metadata": {},
     "output_type": "execute_result"
    }
   ],
   "source": [
    "B[900]"
   ]
  },
  {
   "cell_type": "code",
   "execution_count": null,
   "id": "bd86ad48",
   "metadata": {},
   "outputs": [],
   "source": []
  },
  {
   "cell_type": "code",
   "execution_count": null,
   "id": "bd363cae",
   "metadata": {},
   "outputs": [],
   "source": []
  },
  {
   "cell_type": "code",
   "execution_count": null,
   "id": "0d1038f6",
   "metadata": {},
   "outputs": [],
   "source": []
  }
 ],
 "metadata": {
  "kernelspec": {
   "display_name": "Python 3 (ipykernel)",
   "language": "python",
   "name": "python3"
  },
  "language_info": {
   "codemirror_mode": {
    "name": "ipython",
    "version": 3
   },
   "file_extension": ".py",
   "mimetype": "text/x-python",
   "name": "python",
   "nbconvert_exporter": "python",
   "pygments_lexer": "ipython3",
   "version": "3.9.7"
  }
 },
 "nbformat": 4,
 "nbformat_minor": 5
}
