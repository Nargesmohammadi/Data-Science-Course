{
 "cells": [
  {
   "cell_type": "code",
   "execution_count": 1,
   "id": "2288e1c6",
   "metadata": {},
   "outputs": [],
   "source": [
    "from bokeh.plotting import figure, output_file, show\n",
    "import numpy as np\n",
    "import pandas as pd\n",
    "from bokeh.layouts import gridplot"
   ]
  },
  {
   "cell_type": "code",
   "execution_count": 2,
   "id": "02a4df1d",
   "metadata": {},
   "outputs": [],
   "source": [
    "output_file('demo.html')\n",
    "p = figure(plot_width=400, plot_height=400, title=\"line\")\n",
    "p.line([1,2,3,4,5,], [6,7,8,9,10], line_width=2)\n",
    "show(p)"
   ]
  },
  {
   "cell_type": "code",
   "execution_count": 3,
   "id": "e259c25c",
   "metadata": {},
   "outputs": [
    {
     "name": "stderr",
     "output_type": "stream",
     "text": [
      "BokehDeprecationWarning: 'legend' keyword is deprecated, use explicit 'legend_label', 'legend_field', or 'legend_group' keywords instead\n",
      "BokehDeprecationWarning: 'legend' keyword is deprecated, use explicit 'legend_label', 'legend_field', or 'legend_group' keywords instead\n",
      "BokehDeprecationWarning: 'legend' keyword is deprecated, use explicit 'legend_label', 'legend_field', or 'legend_group' keywords instead\n"
     ]
    }
   ],
   "source": [
    "p = figure(title=\"Bokeh Example\", x_axis_label='X', y_axis_label='Y')\n",
    "x = np.linspace(0, 10, 30)\n",
    "y1= np.sin(x)\n",
    "y2 = np.cos(x)\n",
    "p.line(x, y1, legend=\"y=sin(x)\")\n",
    "p.circle(x, x, legend=\"y=x\", fill_color=\"green\", size=5)\n",
    "p.line(x, y2, legend=\"y=cos\", line_width=3, line_color=\"red\")\n",
    "p.triangle(x, x**2, color=\"blue\")\n",
    "show(p)"
   ]
  },
  {
   "cell_type": "code",
   "execution_count": 4,
   "id": "b4dd4966",
   "metadata": {},
   "outputs": [
    {
     "name": "stderr",
     "output_type": "stream",
     "text": [
      "BokehDeprecationWarning: 'legend' keyword is deprecated, use explicit 'legend_label', 'legend_field', or 'legend_group' keywords instead\n",
      "BokehDeprecationWarning: 'legend' keyword is deprecated, use explicit 'legend_label', 'legend_field', or 'legend_group' keywords instead\n",
      "BokehDeprecationWarning: 'legend' keyword is deprecated, use explicit 'legend_label', 'legend_field', or 'legend_group' keywords instead\n"
     ]
    }
   ],
   "source": [
    "p = figure(plot_width=800, plot_height=1000, title=\"Bokeh Example\", x_axis_label='X', y_axis_label='Y')\n",
    "x = np.linspace(0, 10, 30)\n",
    "y1= np.sin(x)\n",
    "y2 = np.cos(x)\n",
    "p.line(x, y1, legend=\"y=sin(x)\", line_width=5)\n",
    "p.circle(x, x, legend=\"y=x\", fill_color=\"green\", size=7)\n",
    "p.line(x, y2, legend=\"y=cos\", line_width=5, line_color=\"red\")\n",
    "p.triangle(x, x**2, color=\"blue\")\n",
    "show(p)"
   ]
  },
  {
   "cell_type": "code",
   "execution_count": 5,
   "id": "edc7f755",
   "metadata": {},
   "outputs": [],
   "source": [
    "x = np.linspace(0, 6*np.pi, 100)\n",
    "y0 = np.sin(x)\n",
    "y1 = np.cos(x)\n",
    "y2 = np.sin(x) + np.cos(x) - 1\n",
    "s1 = figure()\n",
    "s1.circle(x, y0, size=10, color=\"navy\", alpha=0.5)\n",
    "s2 = figure()\n",
    "s2.triangle(x, y1, size=10, color=\"olive\", alpha=0.5)\n",
    "s3= figure()\n",
    "s3.square(x, y2, size=10, color=\"firebrick\", alpha=0.5)\n",
    "p = gridplot([[s1, s2, s3]])\n",
    "show(p)"
   ]
  },
  {
   "cell_type": "code",
   "execution_count": null,
   "id": "6e968960",
   "metadata": {},
   "outputs": [],
   "source": []
  }
 ],
 "metadata": {
  "kernelspec": {
   "display_name": "Python 3 (ipykernel)",
   "language": "python",
   "name": "python3"
  },
  "language_info": {
   "codemirror_mode": {
    "name": "ipython",
    "version": 3
   },
   "file_extension": ".py",
   "mimetype": "text/x-python",
   "name": "python",
   "nbconvert_exporter": "python",
   "pygments_lexer": "ipython3",
   "version": "3.9.7"
  }
 },
 "nbformat": 4,
 "nbformat_minor": 5
}
