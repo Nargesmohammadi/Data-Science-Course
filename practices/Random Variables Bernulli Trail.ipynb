{
 "cells": [
  {
   "cell_type": "code",
   "execution_count": 1,
   "id": "44613b25",
   "metadata": {},
   "outputs": [],
   "source": [
    "import numpy as np"
   ]
  },
  {
   "cell_type": "code",
   "execution_count": 3,
   "id": "b9e867b9",
   "metadata": {},
   "outputs": [],
   "source": [
    "#generate random values between 0 and 1\n",
    "def BernulliTrail(p=0.5):\n",
    "    X = int(np.random.rand()<=p)\n",
    "    return X"
   ]
  },
  {
   "cell_type": "code",
   "execution_count": 12,
   "id": "3edcb745",
   "metadata": {},
   "outputs": [
    {
     "name": "stdout",
     "output_type": "stream",
     "text": [
      "1\n"
     ]
    }
   ],
   "source": [
    "print(BernulliTrail(0.7))"
   ]
  },
  {
   "cell_type": "code",
   "execution_count": 29,
   "id": "08c5a970",
   "metadata": {},
   "outputs": [
    {
     "name": "stdout",
     "output_type": "stream",
     "text": [
      "Success Fraction is:  0.6\n"
     ]
    }
   ],
   "source": [
    "counOnes = 0\n",
    "countZeros = 0\n",
    "p = 0.7\n",
    "n = 10\n",
    "for i in range(n):\n",
    "    x = BernulliTrail(p)\n",
    "    if x == 1:\n",
    "        counOnes += 1\n",
    "    else:\n",
    "         countZeros += 1   \n",
    "print('Success Fraction is: ', counOnes/n)"
   ]
  }
 ],
 "metadata": {
  "kernelspec": {
   "display_name": "Python 3 (ipykernel)",
   "language": "python",
   "name": "python3"
  },
  "language_info": {
   "codemirror_mode": {
    "name": "ipython",
    "version": 3
   },
   "file_extension": ".py",
   "mimetype": "text/x-python",
   "name": "python",
   "nbconvert_exporter": "python",
   "pygments_lexer": "ipython3",
   "version": "3.9.7"
  }
 },
 "nbformat": 4,
 "nbformat_minor": 5
}
