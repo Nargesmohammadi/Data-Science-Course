{
 "cells": [
  {
   "cell_type": "code",
   "execution_count": 1,
   "id": "2bb9956d",
   "metadata": {},
   "outputs": [],
   "source": [
    "import numpy as np"
   ]
  },
  {
   "cell_type": "code",
   "execution_count": 20,
   "id": "b58ef285",
   "metadata": {},
   "outputs": [
    {
     "data": {
      "text/plain": [
       "array([0, 1, 2, 3, 4, 5, 6, 7, 8, 9])"
      ]
     },
     "execution_count": 20,
     "metadata": {},
     "output_type": "execute_result"
    }
   ],
   "source": [
    "A = np.arange(10)\n",
    "A\n"
   ]
  },
  {
   "cell_type": "code",
   "execution_count": 18,
   "id": "2587898a",
   "metadata": {},
   "outputs": [
    {
     "data": {
      "text/plain": [
       "array([[4, 0, 6, 7, 1, 9, 2, 9, 3, 1]])"
      ]
     },
     "execution_count": 18,
     "metadata": {},
     "output_type": "execute_result"
    }
   ],
   "source": [
    "# starting from 0 to 10 and making 10 elements\n",
    "B = np.random.randint(0,10,(1,10))\n",
    "B"
   ]
  },
  {
   "cell_type": "code",
   "execution_count": 22,
   "id": "fe53f1db",
   "metadata": {},
   "outputs": [
    {
     "data": {
      "text/plain": [
       "(10,)"
      ]
     },
     "execution_count": 22,
     "metadata": {},
     "output_type": "execute_result"
    }
   ],
   "source": [
    "A.shape"
   ]
  },
  {
   "cell_type": "code",
   "execution_count": 23,
   "id": "682f7142",
   "metadata": {},
   "outputs": [
    {
     "data": {
      "text/plain": [
       "(1, 10)"
      ]
     },
     "execution_count": 23,
     "metadata": {},
     "output_type": "execute_result"
    }
   ],
   "source": [
    "B.shape"
   ]
  },
  {
   "cell_type": "code",
   "execution_count": 25,
   "id": "2aafa2c1",
   "metadata": {},
   "outputs": [
    {
     "data": {
      "text/plain": [
       "(1, 10)"
      ]
     },
     "execution_count": 25,
     "metadata": {},
     "output_type": "execute_result"
    }
   ],
   "source": [
    "# adding new axis to array\n",
    "C = A[np.newaxis,:]\n",
    "C.shape"
   ]
  },
  {
   "cell_type": "code",
   "execution_count": 26,
   "id": "21735fe9",
   "metadata": {},
   "outputs": [
    {
     "data": {
      "text/plain": [
       "(1, 10)"
      ]
     },
     "execution_count": 26,
     "metadata": {},
     "output_type": "execute_result"
    }
   ],
   "source": [
    "B.shape"
   ]
  },
  {
   "cell_type": "code",
   "execution_count": 27,
   "id": "d1ed4d8a",
   "metadata": {},
   "outputs": [
    {
     "data": {
      "text/plain": [
       "array([[ 4,  1,  8, 10,  5, 14,  8, 16, 11, 10]])"
      ]
     },
     "execution_count": 27,
     "metadata": {},
     "output_type": "execute_result"
    }
   ],
   "source": [
    "D = B+C\n",
    "D"
   ]
  },
  {
   "cell_type": "code",
   "execution_count": 28,
   "id": "2e5804fe",
   "metadata": {},
   "outputs": [
    {
     "data": {
      "text/plain": [
       "(10,)"
      ]
     },
     "execution_count": 28,
     "metadata": {},
     "output_type": "execute_result"
    }
   ],
   "source": [
    "# o \n",
    "# 2\n",
    "# 4\n",
    "# ⬇️\n",
    "# shape\n",
    "# ⬇️\n",
    "# 1 2 3\n",
    "# ⬇️\n",
    "# np.squeeze().shape\n",
    "# ⬇️\n",
    "# 3\n",
    "D = np.squeeze(D)\n",
    "D.shape"
   ]
  },
  {
   "cell_type": "code",
   "execution_count": 29,
   "id": "eb5fe4cb",
   "metadata": {},
   "outputs": [
    {
     "data": {
      "text/plain": [
       "array([ 4,  1,  8, 10,  5, 14,  8, 16, 11, 10])"
      ]
     },
     "execution_count": 29,
     "metadata": {},
     "output_type": "execute_result"
    }
   ],
   "source": [
    "# D and A, both have same number of components. \n",
    "D"
   ]
  },
  {
   "cell_type": "code",
   "execution_count": 30,
   "id": "3b11c988",
   "metadata": {},
   "outputs": [
    {
     "data": {
      "text/plain": [
       "array([0, 1, 2, 3, 4, 5, 6, 7, 8, 9])"
      ]
     },
     "execution_count": 30,
     "metadata": {},
     "output_type": "execute_result"
    }
   ],
   "source": [
    "A "
   ]
  },
  {
   "cell_type": "code",
   "execution_count": 31,
   "id": "07f5c606",
   "metadata": {},
   "outputs": [
    {
     "data": {
      "text/plain": [
       "array([ 4,  2, 10, 13,  9, 19, 14, 23, 19, 19])"
      ]
     },
     "execution_count": 31,
     "metadata": {},
     "output_type": "execute_result"
    }
   ],
   "source": [
    "# for adding multiple arrays together:\n",
    "C = np.add(A,D)\n",
    "C"
   ]
  },
  {
   "cell_type": "code",
   "execution_count": 33,
   "id": "18080e4c",
   "metadata": {},
   "outputs": [
    {
     "data": {
      "text/plain": [
       "45"
      ]
     },
     "execution_count": 33,
     "metadata": {},
     "output_type": "execute_result"
    }
   ],
   "source": [
    "# sum is using for single array and multiple elements of the that array:\n",
    "C = np.sum(A)\n",
    "C"
   ]
  },
  {
   "cell_type": "code",
   "execution_count": 49,
   "id": "8641ddec",
   "metadata": {},
   "outputs": [
    {
     "data": {
      "text/plain": [
       "array([[[[ 0,  1,  2,  3],\n",
       "         [ 4,  5,  6,  7],\n",
       "         [ 8,  9, 10, 11],\n",
       "         [12, 13, 14, 15],\n",
       "         [16, 17, 18, 19]],\n",
       "\n",
       "        [[20, 21, 22, 23],\n",
       "         [24, 25, 26, 27],\n",
       "         [28, 29, 30, 31],\n",
       "         [32, 33, 34, 35],\n",
       "         [36, 37, 38, 39]]],\n",
       "\n",
       "\n",
       "       [[[40, 41, 42, 43],\n",
       "         [44, 45, 46, 47],\n",
       "         [48, 49, 50, 51],\n",
       "         [52, 53, 54, 55],\n",
       "         [56, 57, 58, 59]],\n",
       "\n",
       "        [[60, 61, 62, 63],\n",
       "         [64, 65, 66, 67],\n",
       "         [68, 69, 70, 71],\n",
       "         [72, 73, 74, 75],\n",
       "         [76, 77, 78, 79]]]])"
      ]
     },
     "execution_count": 49,
     "metadata": {},
     "output_type": "execute_result"
    }
   ],
   "source": [
    "A = np.arange(80).reshape(2,2,5,4)\n",
    "A\n",
    "#A.ndim"
   ]
  },
  {
   "cell_type": "code",
   "execution_count": 44,
   "id": "f2047566",
   "metadata": {},
   "outputs": [
    {
     "data": {
      "text/plain": [
       "array([[[ 40,  42,  44,  46],\n",
       "        [ 48,  50,  52,  54],\n",
       "        [ 56,  58,  60,  62],\n",
       "        [ 64,  66,  68,  70],\n",
       "        [ 72,  74,  76,  78]],\n",
       "\n",
       "       [[ 80,  82,  84,  86],\n",
       "        [ 88,  90,  92,  94],\n",
       "        [ 96,  98, 100, 102],\n",
       "        [104, 106, 108, 110],\n",
       "        [112, 114, 116, 118]]])"
      ]
     },
     "execution_count": 44,
     "metadata": {},
     "output_type": "execute_result"
    }
   ],
   "source": [
    "# axis 0 is first dimension(2,2,5,4), 1 is second and ect.\n",
    "# sum the two first with the two second.(1 by 3 and 2 by 4)\n",
    "B = A.sum(axis=0)\n",
    "B"
   ]
  },
  {
   "cell_type": "code",
   "execution_count": 45,
   "id": "88c562e1",
   "metadata": {},
   "outputs": [
    {
     "data": {
      "text/plain": [
       "(2, 5, 4)"
      ]
     },
     "execution_count": 45,
     "metadata": {},
     "output_type": "execute_result"
    }
   ],
   "source": [
    "B.shape"
   ]
  },
  {
   "cell_type": "code",
   "execution_count": 47,
   "id": "1967f0bc",
   "metadata": {},
   "outputs": [
    {
     "data": {
      "text/plain": [
       "array([[[ 20,  22,  24,  26],\n",
       "        [ 28,  30,  32,  34],\n",
       "        [ 36,  38,  40,  42],\n",
       "        [ 44,  46,  48,  50],\n",
       "        [ 52,  54,  56,  58]],\n",
       "\n",
       "       [[100, 102, 104, 106],\n",
       "        [108, 110, 112, 114],\n",
       "        [116, 118, 120, 122],\n",
       "        [124, 126, 128, 130],\n",
       "        [132, 134, 136, 138]]])"
      ]
     },
     "execution_count": 47,
     "metadata": {},
     "output_type": "execute_result"
    }
   ],
   "source": [
    "# sum 1 by 2 and 3 by 4:\n",
    "B = A.sum(axis=1)\n",
    "B"
   ]
  },
  {
   "cell_type": "code",
   "execution_count": 51,
   "id": "77d4105b",
   "metadata": {},
   "outputs": [
    {
     "data": {
      "text/plain": [
       "array([[[ 40,  45,  50,  55],\n",
       "        [140, 145, 150, 155]],\n",
       "\n",
       "       [[240, 245, 250, 255],\n",
       "        [340, 345, 350, 355]]])"
      ]
     },
     "execution_count": 51,
     "metadata": {},
     "output_type": "execute_result"
    }
   ],
   "source": [
    "# sum all elements in each column:\n",
    "B = A.sum(axis=2)\n",
    "B"
   ]
  },
  {
   "cell_type": "code",
   "execution_count": 52,
   "id": "4234a8d0",
   "metadata": {},
   "outputs": [
    {
     "data": {
      "text/plain": [
       "array([[[  6,  22,  38,  54,  70],\n",
       "        [ 86, 102, 118, 134, 150]],\n",
       "\n",
       "       [[166, 182, 198, 214, 230],\n",
       "        [246, 262, 278, 294, 310]]])"
      ]
     },
     "execution_count": 52,
     "metadata": {},
     "output_type": "execute_result"
    }
   ],
   "source": [
    "# sum all elements in each array:\n",
    "B = A.sum(axis=3)\n",
    "B"
   ]
  },
  {
   "cell_type": "code",
   "execution_count": 54,
   "id": "dfe11037",
   "metadata": {},
   "outputs": [
    {
     "data": {
      "text/plain": [
       "(2, 2, 5)"
      ]
     },
     "execution_count": 54,
     "metadata": {},
     "output_type": "execute_result"
    }
   ],
   "source": [
    "B.shape"
   ]
  },
  {
   "cell_type": "code",
   "execution_count": 56,
   "id": "755ff294",
   "metadata": {},
   "outputs": [
    {
     "data": {
      "text/plain": [
       "array([[ 190,  590],\n",
       "       [ 990, 1390]])"
      ]
     },
     "execution_count": 56,
     "metadata": {},
     "output_type": "execute_result"
    }
   ],
   "source": [
    "C = np.sum(B,axis=2)\n",
    "C"
   ]
  },
  {
   "cell_type": "code",
   "execution_count": 57,
   "id": "f0f47557",
   "metadata": {},
   "outputs": [
    {
     "data": {
      "text/plain": [
       "(2, 2)"
      ]
     },
     "execution_count": 57,
     "metadata": {},
     "output_type": "execute_result"
    }
   ],
   "source": [
    "C.shape"
   ]
  },
  {
   "cell_type": "code",
   "execution_count": 58,
   "id": "dc7e06ac",
   "metadata": {},
   "outputs": [
    {
     "data": {
      "text/plain": [
       "array([1180, 1980])"
      ]
     },
     "execution_count": 58,
     "metadata": {},
     "output_type": "execute_result"
    }
   ],
   "source": [
    "C.sum(axis=0)"
   ]
  },
  {
   "cell_type": "code",
   "execution_count": 59,
   "id": "38261dc2",
   "metadata": {
    "scrolled": true
   },
   "outputs": [
    {
     "data": {
      "text/plain": [
       "array([ 780, 2380])"
      ]
     },
     "execution_count": 59,
     "metadata": {},
     "output_type": "execute_result"
    }
   ],
   "source": [
    "C.sum(axis=1)"
   ]
  },
  {
   "cell_type": "code",
   "execution_count": 60,
   "id": "0224eeae",
   "metadata": {},
   "outputs": [
    {
     "name": "stdout",
     "output_type": "stream",
     "text": [
      "526 µs ± 15.4 µs per loop (mean ± std. dev. of 7 runs, 1,000 loops each)\n",
      "550 µs ± 26.8 µs per loop (mean ± std. dev. of 7 runs, 1,000 loops each)\n"
     ]
    }
   ],
   "source": [
    "n = 1000000\n",
    "A = np.random.rand(n)\n",
    "B = np.random.rand(n)\n",
    "%timeit A+B\n",
    "%timeit np.add(A,B)"
   ]
  },
  {
   "cell_type": "code",
   "execution_count": 62,
   "id": "42ca4d8a",
   "metadata": {},
   "outputs": [
    {
     "data": {
      "text/plain": [
       "array([ 0.46620457, -0.2653115 , -0.37655981, -0.19055266,  0.50797965,\n",
       "       -0.75434126, -0.3853975 ,  0.84543473,  0.65416602, -0.11021379])"
      ]
     },
     "execution_count": 62,
     "metadata": {},
     "output_type": "execute_result"
    }
   ],
   "source": [
    "#subtract\n",
    "A = np.random.rand(10)\n",
    "B = np.random.rand(10)\n",
    "C = np.subtract(A,B)\n",
    "C"
   ]
  },
  {
   "cell_type": "code",
   "execution_count": 64,
   "id": "b35f8834",
   "metadata": {},
   "outputs": [
    {
     "data": {
      "text/plain": [
       "array([ 0.46620457, -0.2653115 , -0.37655981, -0.19055266,  0.50797965,\n",
       "       -0.75434126, -0.3853975 ,  0.84543473,  0.65416602, -0.11021379])"
      ]
     },
     "execution_count": 64,
     "metadata": {},
     "output_type": "execute_result"
    }
   ],
   "source": [
    "C = A-B\n",
    "C"
   ]
  },
  {
   "cell_type": "code",
   "execution_count": 65,
   "id": "af2166b5",
   "metadata": {},
   "outputs": [],
   "source": [
    "#multiply\n",
    "C = np.multiply(A,B)\n",
    "D = A*B"
   ]
  },
  {
   "cell_type": "code",
   "execution_count": 66,
   "id": "fe7c8ffc",
   "metadata": {},
   "outputs": [],
   "source": [
    "#power\n",
    "C = np.power(A,B)\n",
    "C = A**B"
   ]
  },
  {
   "cell_type": "code",
   "execution_count": 67,
   "id": "58ed8546",
   "metadata": {},
   "outputs": [
    {
     "data": {
      "text/plain": [
       "array([0.92243819, 0.43817797, 0.61112885, 0.6520373 , 0.93273157,\n",
       "       0.23131652, 0.57561398, 0.99616009, 0.97276363, 0.60917711])"
      ]
     },
     "execution_count": 67,
     "metadata": {},
     "output_type": "execute_result"
    }
   ],
   "source": [
    "C"
   ]
  },
  {
   "cell_type": "code",
   "execution_count": 69,
   "id": "e7965e5e",
   "metadata": {},
   "outputs": [
    {
     "data": {
      "text/plain": [
       "array([0.17336865, 0.11276727, 0.60572553, 0.56982843, 0.02468556,\n",
       "       0.22390845, 0.55624413, 0.01696389, 0.18428049, 0.28834881])"
      ]
     },
     "execution_count": 69,
     "metadata": {},
     "output_type": "execute_result"
    }
   ],
   "source": [
    "A%B"
   ]
  },
  {
   "cell_type": "code",
   "execution_count": 70,
   "id": "260bb477",
   "metadata": {},
   "outputs": [
    {
     "data": {
      "text/plain": [
       "(10,)"
      ]
     },
     "execution_count": 70,
     "metadata": {},
     "output_type": "execute_result"
    }
   ],
   "source": [
    "A = np.random.randint(1,10,10)\n",
    "A.shape"
   ]
  },
  {
   "cell_type": "code",
   "execution_count": 71,
   "id": "75590930",
   "metadata": {},
   "outputs": [
    {
     "data": {
      "text/plain": [
       "array([2, 0, 4, 2, 2, 0, 0, 0, 2, 2])"
      ]
     },
     "execution_count": 71,
     "metadata": {},
     "output_type": "execute_result"
    }
   ],
   "source": [
    "B = np.random.randint(1,10,10)\n",
    "A%B"
   ]
  },
  {
   "cell_type": "code",
   "execution_count": 72,
   "id": "84a33a64",
   "metadata": {},
   "outputs": [
    {
     "data": {
      "text/plain": [
       "array([2, 0, 4, 2, 2, 0, 0, 0, 2, 2])"
      ]
     },
     "execution_count": 72,
     "metadata": {},
     "output_type": "execute_result"
    }
   ],
   "source": [
    "C = np.mod(A,B)\n",
    "C"
   ]
  },
  {
   "cell_type": "code",
   "execution_count": 75,
   "id": "2eede181",
   "metadata": {},
   "outputs": [],
   "source": [
    "A = np.arange(100).reshape(5,20)\n",
    "A = A.mean(axis=0)"
   ]
  },
  {
   "cell_type": "code",
   "execution_count": 76,
   "id": "3b52cdc4",
   "metadata": {},
   "outputs": [
    {
     "data": {
      "text/plain": [
       "(20,)"
      ]
     },
     "execution_count": 76,
     "metadata": {},
     "output_type": "execute_result"
    }
   ],
   "source": [
    "A.shape"
   ]
  },
  {
   "cell_type": "code",
   "execution_count": 77,
   "id": "fbd305c9",
   "metadata": {},
   "outputs": [],
   "source": [
    "A = np.random.rand(1000).reshape(5,4,2,5,5)"
   ]
  },
  {
   "cell_type": "code",
   "execution_count": 78,
   "id": "b4c5c907",
   "metadata": {},
   "outputs": [
    {
     "data": {
      "text/plain": [
       "(5, 4, 2, 5, 5)"
      ]
     },
     "execution_count": 78,
     "metadata": {},
     "output_type": "execute_result"
    }
   ],
   "source": [
    "A.shape"
   ]
  },
  {
   "cell_type": "code",
   "execution_count": 80,
   "id": "3ab52213",
   "metadata": {},
   "outputs": [
    {
     "data": {
      "text/plain": [
       "(5, 4, 2, 5)"
      ]
     },
     "execution_count": 80,
     "metadata": {},
     "output_type": "execute_result"
    }
   ],
   "source": [
    "B = A.sum(axis=3)\n",
    "B.shape "
   ]
  },
  {
   "cell_type": "code",
   "execution_count": 81,
   "id": "7e296d31",
   "metadata": {},
   "outputs": [
    {
     "data": {
      "text/plain": [
       "(5, 4, 5, 5)"
      ]
     },
     "execution_count": 81,
     "metadata": {},
     "output_type": "execute_result"
    }
   ],
   "source": [
    "B = A.sum(axis=2)\n",
    "B.shape "
   ]
  },
  {
   "cell_type": "code",
   "execution_count": 82,
   "id": "e026f101",
   "metadata": {},
   "outputs": [
    {
     "data": {
      "text/plain": [
       "(5, 4, 2, 5)"
      ]
     },
     "execution_count": 82,
     "metadata": {},
     "output_type": "execute_result"
    }
   ],
   "source": [
    "B = A.sum(axis=4)\n",
    "B.shape "
   ]
  },
  {
   "cell_type": "code",
   "execution_count": 83,
   "id": "d82cc7a0",
   "metadata": {},
   "outputs": [
    {
     "data": {
      "text/plain": [
       "515.9075785069535"
      ]
     },
     "execution_count": 83,
     "metadata": {},
     "output_type": "execute_result"
    }
   ],
   "source": [
    "B.sum()"
   ]
  },
  {
   "cell_type": "code",
   "execution_count": 84,
   "id": "bfd60738",
   "metadata": {},
   "outputs": [
    {
     "data": {
      "text/plain": [
       "515.9075785069535"
      ]
     },
     "execution_count": 84,
     "metadata": {},
     "output_type": "execute_result"
    }
   ],
   "source": [
    "B.sum(axis=0).sum(axis=0).sum(axis=0).sum()"
   ]
  },
  {
   "cell_type": "code",
   "execution_count": 85,
   "id": "fa39d9f1",
   "metadata": {},
   "outputs": [
    {
     "data": {
      "text/plain": [
       "array([0.41070063, 0.34183224, 0.80563484, 0.46382075, 0.79707432])"
      ]
     },
     "execution_count": 85,
     "metadata": {},
     "output_type": "execute_result"
    }
   ],
   "source": [
    "# Trigonometric functions\n",
    "A = np.random.rand(5)\n",
    "np.sin(A)"
   ]
  },
  {
   "cell_type": "code",
   "execution_count": 86,
   "id": "7869f3ab",
   "metadata": {},
   "outputs": [
    {
     "data": {
      "text/plain": [
       "array([0.91177025, 0.93976099, 0.59241245, 0.88592907, 0.60388122])"
      ]
     },
     "execution_count": 86,
     "metadata": {},
     "output_type": "execute_result"
    }
   ],
   "source": [
    "np.cos(A)"
   ]
  },
  {
   "cell_type": "code",
   "execution_count": 87,
   "id": "57181f5e",
   "metadata": {},
   "outputs": [
    {
     "data": {
      "text/plain": [
       "array([0.43699896, 0.3563607 , 1.21321552, 0.50328186, 1.17433905])"
      ]
     },
     "execution_count": 87,
     "metadata": {},
     "output_type": "execute_result"
    }
   ],
   "source": [
    "np.arcsin(A)"
   ]
  },
  {
   "cell_type": "code",
   "execution_count": 88,
   "id": "1cf3c1fe",
   "metadata": {},
   "outputs": [
    {
     "data": {
      "text/plain": [
       "array([1.13379737, 1.21443563, 0.35758081, 1.06751446, 0.39645728])"
      ]
     },
     "execution_count": 88,
     "metadata": {},
     "output_type": "execute_result"
    }
   ],
   "source": [
    "np.arccos(A)"
   ]
  },
  {
   "cell_type": "code",
   "execution_count": 89,
   "id": "44d7e8f1",
   "metadata": {},
   "outputs": [
    {
     "data": {
      "text/plain": [
       "array([False,  True,  True, False, False])"
      ]
     },
     "execution_count": 89,
     "metadata": {},
     "output_type": "execute_result"
    }
   ],
   "source": [
    "A = np.random.rand(5)\n",
    "B = np.random.rand(5)\n",
    "R = np.greater(A,B)\n",
    "R"
   ]
  },
  {
   "cell_type": "code",
   "execution_count": 91,
   "id": "2a650543",
   "metadata": {},
   "outputs": [
    {
     "data": {
      "text/plain": [
       "array([False,  True,  True, False, False])"
      ]
     },
     "execution_count": 91,
     "metadata": {},
     "output_type": "execute_result"
    }
   ],
   "source": [
    "R = A>B\n",
    "R"
   ]
  },
  {
   "cell_type": "code",
   "execution_count": 92,
   "id": "e4c1bc2a",
   "metadata": {},
   "outputs": [],
   "source": [
    "A = np.random.rand(10)\n",
    "R1 = A<0.5\n",
    "R2 = ~R1"
   ]
  },
  {
   "cell_type": "code",
   "execution_count": 93,
   "id": "8ace4139",
   "metadata": {},
   "outputs": [
    {
     "data": {
      "text/plain": [
       "array([ True, False,  True, False, False, False,  True,  True, False,\n",
       "       False])"
      ]
     },
     "execution_count": 93,
     "metadata": {},
     "output_type": "execute_result"
    }
   ],
   "source": [
    "R1"
   ]
  },
  {
   "cell_type": "code",
   "execution_count": 94,
   "id": "141b962d",
   "metadata": {},
   "outputs": [
    {
     "data": {
      "text/plain": [
       "array([False,  True, False,  True,  True,  True, False, False,  True,\n",
       "        True])"
      ]
     },
     "execution_count": 94,
     "metadata": {},
     "output_type": "execute_result"
    }
   ],
   "source": [
    "R2"
   ]
  },
  {
   "cell_type": "code",
   "execution_count": 95,
   "id": "fb707020",
   "metadata": {},
   "outputs": [
    {
     "data": {
      "text/plain": [
       "array([False,  True, False,  True,  True,  True, False, False,  True,\n",
       "        True])"
      ]
     },
     "execution_count": 95,
     "metadata": {},
     "output_type": "execute_result"
    }
   ],
   "source": [
    "R2 = np.logical_not(R1)\n",
    "R2"
   ]
  },
  {
   "cell_type": "code",
   "execution_count": 114,
   "id": "0b13b3c8",
   "metadata": {},
   "outputs": [
    {
     "data": {
      "text/plain": [
       "array([False, False, False, False, False, False, False, False, False,\n",
       "       False, False, False, False, False, False, False, False, False,\n",
       "       False, False])"
      ]
     },
     "execution_count": 114,
     "metadata": {},
     "output_type": "execute_result"
    }
   ],
   "source": [
    "A = np.random.rand(20)\n",
    "idx = (A>0.2) & (A<.08)\n",
    "idx"
   ]
  },
  {
   "cell_type": "code",
   "execution_count": 116,
   "id": "61437651",
   "metadata": {},
   "outputs": [
    {
     "data": {
      "text/plain": [
       "array([0.91986374, 0.85813103, 0.98522778,        nan, 0.59155627])"
      ]
     },
     "execution_count": 116,
     "metadata": {},
     "output_type": "execute_result"
    }
   ],
   "source": [
    "#missing values\n",
    "A = np.random.rand(5)\n",
    "A[3] = np.nan\n",
    "A"
   ]
  },
  {
   "cell_type": "code",
   "execution_count": 117,
   "id": "07faeafe",
   "metadata": {},
   "outputs": [
    {
     "data": {
      "text/plain": [
       "nan"
      ]
     },
     "execution_count": 117,
     "metadata": {},
     "output_type": "execute_result"
    }
   ],
   "source": [
    "A.sum()"
   ]
  },
  {
   "cell_type": "code",
   "execution_count": 119,
   "id": "50f4b762",
   "metadata": {},
   "outputs": [
    {
     "data": {
      "text/plain": [
       "3.354778816033858"
      ]
     },
     "execution_count": 119,
     "metadata": {},
     "output_type": "execute_result"
    }
   ],
   "source": [
    "#egnoring the nan values\n",
    "np.nansum(A)"
   ]
  },
  {
   "cell_type": "code",
   "execution_count": 120,
   "id": "ea39c036",
   "metadata": {},
   "outputs": [
    {
     "data": {
      "text/plain": [
       "array([False, False, False,  True, False])"
      ]
     },
     "execution_count": 120,
     "metadata": {},
     "output_type": "execute_result"
    }
   ],
   "source": [
    "np.isnan(A)"
   ]
  },
  {
   "cell_type": "code",
   "execution_count": 121,
   "id": "1cc301af",
   "metadata": {},
   "outputs": [
    {
     "data": {
      "text/plain": [
       "array([1.54828817, 5.34995177, 5.4338715 , 9.84266967, 2.51787387])"
      ]
     },
     "execution_count": 121,
     "metadata": {},
     "output_type": "execute_result"
    }
   ],
   "source": [
    "A = 10*np.random.rand(5)\n",
    "A"
   ]
  },
  {
   "cell_type": "code",
   "execution_count": 122,
   "id": "b214ce85",
   "metadata": {},
   "outputs": [
    {
     "data": {
      "text/plain": [
       "array([1., 5., 5., 9., 2.])"
      ]
     },
     "execution_count": 122,
     "metadata": {},
     "output_type": "execute_result"
    }
   ],
   "source": [
    "#rounding floatiing points\n",
    "np.floor(A)"
   ]
  },
  {
   "cell_type": "code",
   "execution_count": 123,
   "id": "b0d32160",
   "metadata": {},
   "outputs": [
    {
     "data": {
      "text/plain": [
       "array([ 2.,  6.,  6., 10.,  3.])"
      ]
     },
     "execution_count": 123,
     "metadata": {},
     "output_type": "execute_result"
    }
   ],
   "source": [
    "#implemented by 1 \n",
    "np.ceil(A)"
   ]
  },
  {
   "cell_type": "code",
   "execution_count": null,
   "id": "574252b2",
   "metadata": {},
   "outputs": [],
   "source": []
  }
 ],
 "metadata": {
  "kernelspec": {
   "display_name": "Python 3 (ipykernel)",
   "language": "python",
   "name": "python3"
  },
  "language_info": {
   "codemirror_mode": {
    "name": "ipython",
    "version": 3
   },
   "file_extension": ".py",
   "mimetype": "text/x-python",
   "name": "python",
   "nbconvert_exporter": "python",
   "pygments_lexer": "ipython3",
   "version": "3.9.7"
  }
 },
 "nbformat": 4,
 "nbformat_minor": 5
}
